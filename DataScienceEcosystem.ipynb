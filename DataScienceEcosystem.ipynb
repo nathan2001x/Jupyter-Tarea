{
 "cells": [
  {
   "cell_type": "markdown",
   "id": "fb24e57c-1eee-434f-ac8a-6a0224bf8f4a",
   "metadata": {},
   "source": [
    "# Data Science Tools and Ecosystem"
   ]
  },
  {
   "cell_type": "markdown",
   "id": "cfa90618-643c-4cd2-9be3-f5069393b304",
   "metadata": {},
   "source": [
    "In this notebook, Data Science Tools and Ecosystem are summarized.\n"
   ]
  },
  {
   "cell_type": "markdown",
   "id": "5a6ece78-775e-4244-9248-8316bb119161",
   "metadata": {},
   "source": [
    "Some of the popular languages that Data Scientists use are:\n",
    "1. Python\n",
    "2. R\n",
    "3. SQL"
   ]
  },
  {
   "cell_type": "markdown",
   "id": "f518e3c0-b505-4e3e-9f0f-43721749b355",
   "metadata": {},
   "source": [
    "Some of the commonly used libraries used by Data Scientists include:\n",
    "1. Numpy\n",
    "2. Pandas\n",
    "3. Scikit-learn"
   ]
  },
  {
   "cell_type": "markdown",
   "id": "03346732-2936-4de5-b790-7a6682b0fb8f",
   "metadata": {},
   "source": [
    "|Data Science Tools|\n",
    "|------------------|\n",
    "|Apache Spark|\n",
    "|Hadoop|\n",
    "|MongoDB|"
   ]
  },
  {
   "cell_type": "markdown",
   "id": "f3411563-8ba0-4ecf-b6f8-93edfb46ab9b",
   "metadata": {
    "tags": []
   },
   "source": [
    "### Below are a few examples of evaluating arithmetic expressions in Python. ###"
   ]
  },
  {
   "cell_type": "code",
   "execution_count": 2,
   "id": "3de97408-30f0-4c06-8cf2-8fff7350debd",
   "metadata": {
    "tags": []
   },
   "outputs": [
    {
     "data": {
      "text/plain": [
       "17"
      ]
     },
     "execution_count": 2,
     "metadata": {},
     "output_type": "execute_result"
    }
   ],
   "source": [
    "(3*4)+5\n",
    "# This a simple arithmetic expression to mutiply then add integers"
   ]
  },
  {
   "cell_type": "code",
   "execution_count": 5,
   "id": "dfac7e26-ec0d-4a2a-9111-227ef0547781",
   "metadata": {
    "tags": []
   },
   "outputs": [
    {
     "data": {
      "text/plain": [
       "3.3333333333333335"
      ]
     },
     "execution_count": 5,
     "metadata": {},
     "output_type": "execute_result"
    }
   ],
   "source": [
    "200/60\n",
    "#This will convert 200 minutes to hours by diving by 60"
   ]
  },
  {
   "cell_type": "markdown",
   "id": "b28dc4aa-9f11-482d-8ec3-689273a3d7ea",
   "metadata": {},
   "source": [
    "**Objectives:**"
   ]
  },
  {
   "cell_type": "markdown",
   "id": "0a4f01bd-07a4-401f-bd0d-6286f8f2326d",
   "metadata": {},
   "source": [
    "List popular languages for Data Science.\n",
    "- Python\n",
    "- R\n",
    "- SQL"
   ]
  },
  {
   "cell_type": "markdown",
   "id": "8020e12b-82d6-4471-aa5c-3b1fd7d36227",
   "metadata": {},
   "source": [
    "## Author"
   ]
  },
  {
   "cell_type": "markdown",
   "id": "20b2a9f1-548f-45f3-b346-b565dbf1d433",
   "metadata": {},
   "source": [
    "Nathan Jose Velez Ordoñez"
   ]
  },
  {
   "cell_type": "code",
   "execution_count": null,
   "id": "2a9c3eba-e54f-4778-bfbc-c6a907747154",
   "metadata": {},
   "outputs": [],
   "source": []
  }
 ],
 "metadata": {
  "kernelspec": {
   "display_name": "Python",
   "language": "python",
   "name": "conda-env-python-py"
  },
  "language_info": {
   "codemirror_mode": {
    "name": "ipython",
    "version": 3
   },
   "file_extension": ".py",
   "mimetype": "text/x-python",
   "name": "python",
   "nbconvert_exporter": "python",
   "pygments_lexer": "ipython3",
   "version": "3.7.12"
  }
 },
 "nbformat": 4,
 "nbformat_minor": 5
}
